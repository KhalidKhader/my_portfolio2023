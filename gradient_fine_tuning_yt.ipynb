{
  "nbformat": 4,
  "nbformat_minor": 0,
  "metadata": {
    "colab": {
      "provenance": [],
      "include_colab_link": true
    },
    "kernelspec": {
      "name": "python3",
      "display_name": "Python 3"
    },
    "language_info": {
      "name": "python"
    }
  },
  "cells": [
    {
      "cell_type": "markdown",
      "metadata": {
        "id": "view-in-github",
        "colab_type": "text"
      },
      "source": [
        "<a href=\"https://colab.research.google.com/github/KhalidKhader/my_portfolio2023/blob/master/gradient_fine_tuning_yt.ipynb\" target=\"_parent\"><img src=\"https://colab.research.google.com/assets/colab-badge.svg\" alt=\"Open In Colab\"/></a>"
      ]
    },
    {
      "cell_type": "code",
      "source": [
        "!pip install gradientai --upgrade"
      ],
      "metadata": {
        "id": "wak76xYYUdXE",
        "colab": {
          "base_uri": "https://localhost:8080/"
        },
        "outputId": "84648974-b508-492d-d1cd-dd043efc8cd7"
      },
      "execution_count": 1,
      "outputs": [
        {
          "output_type": "stream",
          "name": "stdout",
          "text": [
            "Collecting gradientai\n",
            "  Downloading gradientai-1.9.1-py3-none-any.whl (353 kB)\n",
            "\u001b[2K     \u001b[90m━━━━━━━━━━━━━━━━━━━━━━━━━━━━━━━━━━━━━━━━\u001b[0m \u001b[32m353.6/353.6 kB\u001b[0m \u001b[31m5.3 MB/s\u001b[0m eta \u001b[36m0:00:00\u001b[0m\n",
            "\u001b[?25hCollecting aenum>=3.1.11 (from gradientai)\n",
            "  Downloading aenum-3.1.15-py3-none-any.whl (137 kB)\n",
            "\u001b[2K     \u001b[90m━━━━━━━━━━━━━━━━━━━━━━━━━━━━━━━━━━━━━━━━\u001b[0m \u001b[32m137.6/137.6 kB\u001b[0m \u001b[31m10.7 MB/s\u001b[0m eta \u001b[36m0:00:00\u001b[0m\n",
            "\u001b[?25hCollecting pydantic<2.0.0,>=1.10.5 (from gradientai)\n",
            "  Downloading pydantic-1.10.15-cp310-cp310-manylinux_2_17_x86_64.manylinux2014_x86_64.whl (3.1 MB)\n",
            "\u001b[2K     \u001b[90m━━━━━━━━━━━━━━━━━━━━━━━━━━━━━━━━━━━━━━━━\u001b[0m \u001b[32m3.1/3.1 MB\u001b[0m \u001b[31m17.4 MB/s\u001b[0m eta \u001b[36m0:00:00\u001b[0m\n",
            "\u001b[?25hRequirement already satisfied: python-dateutil>=2.8.2 in /usr/local/lib/python3.10/dist-packages (from gradientai) (2.8.2)\n",
            "Requirement already satisfied: urllib3>=1.25.3 in /usr/local/lib/python3.10/dist-packages (from gradientai) (2.0.7)\n",
            "Requirement already satisfied: typing-extensions>=4.2.0 in /usr/local/lib/python3.10/dist-packages (from pydantic<2.0.0,>=1.10.5->gradientai) (4.11.0)\n",
            "Requirement already satisfied: six>=1.5 in /usr/local/lib/python3.10/dist-packages (from python-dateutil>=2.8.2->gradientai) (1.16.0)\n",
            "Installing collected packages: aenum, pydantic, gradientai\n",
            "  Attempting uninstall: pydantic\n",
            "    Found existing installation: pydantic 2.6.4\n",
            "    Uninstalling pydantic-2.6.4:\n",
            "      Successfully uninstalled pydantic-2.6.4\n",
            "Successfully installed aenum-3.1.15 gradientai-1.9.1 pydantic-1.10.15\n"
          ]
        }
      ]
    },
    {
      "cell_type": "code",
      "source": [
        "import os\n",
        "os.environ['GRADIENT_ACCESS_TOKEN'] = \"SULXgrNptduvU37FKJK72YFGjlfRjP6S\"\n",
        "os.environ['GRADIENT_WORKSPACE_ID'] = \"afb4054d-10b4-4ae6-a404-3f65361bd408_workspace\""
      ],
      "metadata": {
        "id": "U02ytLrPA2rG"
      },
      "execution_count": 2,
      "outputs": []
    },
    {
      "cell_type": "code",
      "source": [
        "samples = [\n",
        "    { \"inputs\": \"### Instruction: Who is Khalid Khader? \\n\\n### Response: Khalid Khader is a computer engineer who has worked as a Data Scientist and Machine Learning Engineer at AXSOS AG. He also worked as a Full-stack Developer/TA at AXSOS AG and trained as a front-end React JS developer at EXALT Technologies. He worked on a project in Oracle PL/SQL for one year, mainly in AI with Oracle systems and Databases for a web App. Khalid delivers many sessions to talk and discuss AI, Machine Learning, Data Science, Deep Learning, and Computer Vision with popular academies in Palestine such as AXSOS Academy and TAP.\" },\n",
        "    { \"inputs\": \"### Instruction: How old is Khalid Khader? \\n\\n### Response: Khalid Khader is 23 years old.\" },\n",
        "    { \"inputs\": \"### Instruction: Where is Khalid Khader from? \\n\\n### Response: Khalid Khader is from Tulkarm, West Bank.\" },\n",
        "    { \"inputs\": \"### Instruction: Where does Khalid Khader work? \\n\\n### Response: Khalid Khader works at AXSOS AG.\" },\n",
        "    { \"inputs\": \"### Instruction: What is Khalid Khader's email? \\n\\n### Response: Khalid Khader's email is KhalidalKhader@gmail.com.\" },\n",
        "    { \"inputs\": \"### Instruction: What is Khalid Khader's phone number? \\n\\n### Response: Khalid Khader's phone number is +970568807701.\" },\n",
        "    { \"inputs\": \"### Instruction: What is Khalid Khader's portfolio link? \\n\\n### Response: Khalid Khader's portfolio link is https://khalidkhader.netlify.app.\" },\n",
        "    { \"inputs\": \"### Instruction: What is Khalid Khader's latest projects link? \\n\\n### Response: Khalid Khader's latest projects link is https://khalidkhadermedapp.site.\" },\n",
        "    { \"inputs\": \"### Instruction: What is Khalid Khader's educational background? \\n\\n### Response: Khalid Khader has a background in computer engineering.\" },\n",
        "    { \"inputs\": \"### Instruction: What is Khalid Khader's work experience? \\n\\n### Response: Khalid Khader has worked as a Data Scientist and Machine Learning Engineer at AXSOS AG, as well as a Full-stack Developer/TA at AXSOS AG.\" },\n",
        "    { \"inputs\": \"### Instruction: What technologies is Khalid Khader proficient in? \\n\\n### Response: Khalid Khader is proficient in technologies such as React JS, Oracle PL/SQL, and AI systems.\" },\n",
        "    { \"inputs\": \"### Instruction: What projects has Khalid Khader worked on? \\n\\n### Response: Khalid Khader has worked on projects involving AI, Machine Learning, Data Science, Deep Learning, and Computer Vision.\" },\n",
        "    { \"inputs\": \"### Instruction: What academies has Khalid Khader worked with? \\n\\n### Response: Khalid Khader has worked with academies such as AXSOS Academy and TAP.\" },\n",
        "    { \"inputs\": \"### Instruction: What is Khalid Khader's role at AXSOS AG? \\n\\n### Response: Khalid Khader's role at AXSOS AG is a Data Science and ML TA/Engineer.\" },\n",
        "    { \"inputs\": \"### Instruction: What is Khalid Khader's interest in AI? \\n\\n### Response: Khalid Khader is interested in AI, ML, DL, CV, NLP, and Data Science.\" },\n",
        "    { \"inputs\": \"### Instruction: What departments is Khalid Khader interested in creating? \\n\\n### Response: Khalid Khader is interested in creating AI, ML, DL, CV, NLP, and Data Science departments.\" },\n",
        "    { \"inputs\": \"### Instruction: What is Khalid Khader's team like? \\n\\n### Response: Khalid Khader's team includes a senior NLP Engineer.\" },\n",
        "    { \"inputs\": \"### Instruction: What positions is Khalid Khader interested in? \\n\\n### Response: Khalid Khader is interested in positions related to AI, ML, DL, CV, NLP, and Data Science.\" },\n",
        "    { \"inputs\": \"### Instruction: Khalid Khader? \\n\\n### Response: Khader Khalid is a Palestinian AI Engineer who talks about AI working in AXSOS AG\" },\n",
        "    { \"inputs\": \"### Instruction: Who is the person named Khader Khalid  ? \\n\\n### Response: Khalid Khader is a 23 years old Data scientist who talks about AI works on AXSOS AG\" },\n",
        "    { \"inputs\": \"### Instruction: Can you tell me about Khalid Khader? \\n\\n### Response: Khalid Khader is a popular Palestinian AI consultant who specializes in AI content\" },\n",
        "    { \"inputs\": \"### Instruction: How old is Khalid Khader? \\n\\n### Response: Khalid Khader is a 23 years old\" },\n",
        "    { \"inputs\": \"### Instruction: Where is Khader Khalid from ? \\n\\n### Response: Khalid Khader is a 23 years from Tulkarm West Bank\" },\n",
        "    { \"inputs\": \"### Instruction: Where is Khalid works? \\n\\n### Response: Khalid Khader is working in AXSOS AG\" },\n",
        "    { \"inputs\": \"### Instruction: Khalid Khader Email? \\n\\n### Response:  KhalidalKhader@gmail.com \" },\n",
        "    { \"inputs\": \"### Instruction: What is Khader Khalid  Email? \\n\\n### Response: KhalidalKhader@gmail.com\" },\n",
        "    { \"inputs\": \"### Instruction: Khalid Khader Phone number? \\n\\n### Response: +970568807701\" },\n",
        "    { \"inputs\": \"### Instruction: What is Khader Khalid  Phone number?? \\n\\n### Response: +970568807701\" },\n",
        "    { \"inputs\": \"### Instruction: Khalid Khader Portfolio ? \\n\\n### Response: https://khalidkhader.netlify.app\" },\n",
        "    { \"inputs\": \"### Instruction: Where is Khalid Portfolio link? \\n\\n### Response: https://khalidkhader.netlify.app/\" },\n",
        "    { \"inputs\": \"### Instruction: Khalid Khader latest projects ? \\n\\n### Response: https://khalidkhadermedapp.site\" },\n",
        "    { \"inputs\": \"### Instruction: Where is Khalid latest projects link? \\n\\n### Response: https://khalidkhadermedapp.site/\" },\n",
        "    { \"inputs\": \"### Instruction: What training has Khalid Khader received? \\n\\n### Response: Khalid Khader has trained as a front-end React JS developer at EXALT Technologies.\" },\n",
        "    { \"inputs\": \"### Instruction: What languages does Khalid Khader speak? \\n\\n### Response: Khalid Khader speaks Arabic and English.\" },\n",
        "    { \"inputs\": \"### Instruction: What skills does Khalid Khader have in AI? \\n\\n### Response: Khalid Khader has skills in AI, Machine Learning, Data Science, Deep Learning, and Computer Vision.\" },\n",
        "    { \"inputs\": \"### Instruction: What programming languages does Khalid Khader know? \\n\\n### Response: Khalid Khader knows programming languages such as JavaScript, SQL, and PL/SQL.\" },\n",
        "    { \"inputs\": \"### Instruction: What industries has Khalid Khader worked in? \\n\\n### Response: Khalid Khader has worked in the technology industry.\" },\n",
        "    { \"inputs\": \"### Instruction: What projects has Khalid Khader delivered sessions on? \\n\\n### Response: Khalid Khader has delivered sessions on AI, Machine Learning, Data Science, Deep Learning, and Computer Vision.\" },\n",
        "    { \"inputs\": \"### Instruction: What type of sessions does Khalid Khader deliver? \\n\\n### Response: Khalid Khader delivers sessions to talk and discuss about AI, Machine Learning, Data Science, Deep Learning, and Computer Vision.\" },\n",
        "    { \"inputs\": \"### Instruction: What is Khalid Khader's role in delivering sessions? \\n\\n### Response: Khalid Khader delivers sessions as a speaker and discussion leader.\" },\n",
        "    { \"inputs\": \"### Instruction: What topics does Khalid Khader cover in his sessions? \\n\\n### Response: Khalid Khader covers topics such as AI, Machine Learning, Data Science, Deep Learning, and Computer Vision.\" },\n",
        "    { \"inputs\": \"### Instruction: What technologies does Khalid Khader use in his sessions? \\n\\n### Response: Khalid Khader uses technologies related to AI, Machine Learning, Data Science, Deep Learning, and Computer Vision in his sessions.\" },\n",
        "    { \"inputs\": \"### Instruction: What is Khalid Khader's role in creating AI, ML, DL, CV, NLP, and Data Science departments? \\n\\n### Response: Khalid Khader can help in creating AI, ML, DL, CV, NLP, and Data Science departments.\" },\n",
        "    { \"inputs\": \"### Instruction: What is Khalid Khader's role in the project involving oracle PL/SQL? \\n\\n### Response: Khalid Khader worked on a project in oracle PL/SQL for one year, mainly in AI with Oracle systems and Databases for a web App.\" },\n",
        "    { \"inputs\": \"### Instruction: What is Khalid Khader's role in the project involving React JS? \\n\\n### Response: Khalid Khader trained as a front-end React JS developer at EXALT Technologies.\" },\n",
        "    { \"inputs\": \"### Instruction: What is Khalid Khader's role in the project involving AI, ML, DL, CV, NLP, and Data Science? \\n\\n### Response: Khalid Khader worked as a Data Scientist and Machine Learning Engineer at AXSOS AG, and also delivers sessions on AI, Machine Learning, Data Science, Deep Learning, and Computer Vision.\" },\n",
        "    { \"inputs\": \"### Instruction: What is Khalid Khader's role in the technology industry? \\n\\n### Response: Khalid Khader has worked in the technology industry as a computer engineer, Data Scientist, Machine Learning Engineer, and Full-stack Developer/TA.\" },\n",
        "    { \"inputs\": \"### Instruction: What is Khalid Khader's role at EXALT Technologies? \\n\\n### Response: Khalid Khader trained as a front-end React JS developer at EXALT Technologies.\" },\n",
        "    { \"inputs\": \"### Instruction: What is Khalid Khader's role at AXSOS AG? \\n\\n### Response: Khalid Khader worked as a Data Scientist and Machine Learning Engineer at AXSOS AG, and also as a Full-stack Developer/TA.\" },\n",
        "    { \"inputs\": \"### Instruction: What is Khalid Khader's role in the technology industry? \\n\\n### Response: Khalid Khader has worked in the technology industry as a computer engineer, Data Scientist, Machine Learning Engineer, and Full-stack Developer/TA.\" },\n",
        "    { \"inputs\": \"### Instruction: What is Khalid Khader's role in the AI project at AXSOS AG? \\n\\n### Response: Khalid Khader worked as a Data Scientist and Machine Learning Engineer at AXSOS AG, and also delivers sessions on AI, Machine Learning, Data Science, Deep Learning, and Computer Vision.\" },\n",
        "    { \"inputs\": \"### Instruction: What is Khalid Khader's role in the Oracle PL/SQL project? \\n\\n### Response: Khalid Khader worked on a project in Oracle PL/SQL for one year, mainly in AI with Oracle systems and Databases for a web App.\" },\n",
        "    { \"inputs\": \"### Instruction: What is Khalid Khader's role in creating AI, ML, DL, CV, NLP, and Data Science departments? \\n\\n### Response: Khalid Khader can help in creating AI, ML, DL, CV, NLP, and Data Science departments.\" },\n",
        "    { \"inputs\": \"### Instruction: What is Khalid Khader's role in delivering sessions on AI, Machine Learning, Data Science, Deep Learning, and Computer Vision? \\n\\n### Response: Khalid Khader delivers sessions as a speaker and discussion leader.\" },\n",
        "    { \"inputs\": \"### Instruction: What is Khalid Khader's role in the technology industry in Palestine? \\n\\n### Response: Khalid Khader has worked in the technology industry in Palestine and delivers sessions on AI, Machine Learning, Data Science, Deep Learning, and Computer Vision with popular academies in Palestine such as AXSOS Academy and TAP.\" },\n",
        "    { \"inputs\": \"### Instruction: What is Khalid Khader's role in training as a front-end React JS developer at EXALT Technologies? \\n\\n### Response: Khalid Khader trained as a front-end React JS developer at EXALT Technologies.\" },\n",
        "    { \"inputs\": \"### Instruction: What is Khalid Khader's role in working as a Full-stack Developer/TA at AXSOS AG? \\n\\n### Response: Khalid Khader worked as a Full-stack Developer/TA at AXSOS AG.\" },\n",
        "    { \"inputs\": \"### Instruction: What is Khalid Khader's role in the project involving AI, ML, DL, CV, NLP, and Data Science at AXSOS AG? \\n\\n### Response: Khalid Khader worked as a Data Scientist and Machine Learning Engineer at AXSOS AG, and also delivers sessions on AI, Machine Learning, Data Science, Deep Learning, and Computer Vision.\" },\n",
        "    { \"inputs\": \"### Instruction: What is Khalid Khader's role in the project involving oracle PL/SQL for one year mainly in AI with Oracle systems and Databases for a web App? \\n\\n### Response: Khalid Khader worked on a project in Oracle PL/SQL for one year, mainly in AI with Oracle systems and Databases for a web App.\" },\n",
        "    { \"inputs\": \"### Instruction: What is Khalid Khader's role in the AI project at AXSOS AG? \\n\\n### Response: Khalid Khader worked as a Data Scientist and Machine Learning Engineer at AXSOS AG, and also as a Full-stack Developer/TA.\" },\n",
        "    { \"inputs\": \"### Instruction: What is Khalid Khader's role in the Oracle PL/SQL project? \\n\\n### Response: Khalid Khader worked on a project in Oracle PL/SQL for one year, mainly in AI with Oracle systems and Databases for a web App.\" },\n",
        "    { \"inputs\": \"### Instruction: What is Khalid Khader's role in creating AI, ML, DL, CV, NLP, and Data Science departments? \\n\\n### Response: Khalid Khader can help in creating AI, ML, DL, CV, NLP, and Data Science departments.\" },\n",
        "    { \"inputs\": \"### Instruction: What is Khalid Khader's role in delivering sessions on AI, Machine Learning, Data Science, Deep Learning, and Computer Vision? \\n\\n### Response: Khalid Khader delivers sessions as a speaker and discussion leader.\" },\n",
        "    { \"inputs\": \"### Instruction: What is Khalid Khader's role in the technology industry in Palestine? \\n\\n### Response: Khalid Khader has worked in the technology industry in Palestine and delivers sessions on AI, Machine Learning, Data Science, Deep Learning, and Computer Vision with popular academies in Palestine such as AXSOS Academy and TAP.\" },\n",
        "    { \"inputs\": \"### Instruction: What is Khalid Khader's role in training as a front-end React JS developer at EXALT Technologies? \\n\\n### Response: Khalid Khader trained as a front-end React JS developer at EXALT Technologies.\" },\n",
        "    { \"inputs\": \"### Instruction: What is Khalid Khader's role in working as a Full-stack Developer/TA at AXSOS AG? \\n\\n### Response: Khalid Khader worked as a Full-stack Developer/TA at AXSOS AG.\" },\n",
        "    { \"inputs\": \"### Instruction: What is Khalid Khader's role in the project involving AI, ML, DL, CV, NLP, and Data Science at AXSOS AG? \\n\\n### Response: Khalid Khader worked as a Data Scientist and Machine Learning Engineer at AXSOS AG, and also delivers sessions on AI, Machine Learning, Data Science, Deep Learning, and Computer Vision.\" },\n",
        "    { \"inputs\": \"### Instruction: What is Khalid Khader's role in the project involving oracle PL/SQL for one year mainly in AI with Oracle systems and Databases for a web App? \\n\\n### Response: Khalid Khader worked on a project in Oracle PL/SQL for one year, mainly in AI with Oracle systems and Databases for a web App.\" },\n",
        "    { \"inputs\": \"### Instruction: What is Khalid Khader's role in delivering sessions on AI, Machine Learning, Data Science, Deep Learning, and Computer Vision at popular academies in Palestine such as AXSOS Academy and TAP? \\n\\n### Response: Khalid Khader delivers sessions as a speaker and discussion leader at popular academies in Palestine such as AXSOS Academy and TAP.\" },\n",
        "    { \"inputs\": \"### Instruction: What is Khalid Khader's role in creating AI, ML, DL, CV, NLP, and Data Science departments at organizations? \\n\\n### Response: Khalid Khader can help in creating AI, ML, DL, CV, NLP, and Data Science departments at organizations.\" },\n",
        "    { \"inputs\": \"### Instruction: What is Khalid Khader's role in training data scientists and engineers in AI, ML, DL, CV, NLP, and Data Science? \\n\\n### Response: Khalid Khader trains data scientists and engineers in AI, ML, DL, CV, NLP, and Data Science.\" },\n",
        "    { \"inputs\": \"### Instruction: What is Khalid Khader's role in mentoring data scientists and engineers in AI, ML, DL, CV, NLP, and Data Science? \\n\\n### Response: Khalid Khader mentors data scientists and engineers in AI, ML, DL, CV, NLP, and Data Science.\" },\n",
        "    { \"inputs\": \"### Instruction: What is Khalid Khader's role in leading AI, ML, DL, CV, NLP, and Data Science projects? \\n\\n### Response: Khalid Khader leads AI, ML, DL, CV, NLP, and Data Science projects.\" },\n",
        "    { \"inputs\": \"### Instruction: What is Khalid Khader's role in AI research and development? \\n\\n### Response: Khalid Khader is involved in AI research and development.\" },\n",
        "    { \"inputs\": \"### Instruction: What is Khalid Khader's role in innovation in AI, ML, DL, CV, NLP, and Data Science? \\n\\n### Response: Khalid Khader contributes to innovation in AI, ML, DL, CV, NLP, and Data Science.\" },\n",
        "    { \"inputs\": \"### Instruction: What is Khalid Khader's role in implementing AI, ML, DL, CV, NLP, and Data Science solutions? \\n\\n### Response: Khalid Khader implements AI, ML, DL, CV, NLP, and Data Science solutions.\" },\n",
        "    { \"inputs\": \"### Instruction: What is Khalid Khader's role in collaborating with other professionals in AI, ML, DL, CV, NLP, and Data Science? \\n\\n### Response: Khalid Khader collaborates with other professionals in AI, ML, DL, CV, NLP, and Data Science.\" },\n",
        "    { \"inputs\": \"### Instruction: What is Khalid Khader's role in applying AI, ML, DL, CV, NLP, and Data Science in real-world scenarios? \\n\\n### Response: Khalid Khader applies AI, ML, DL, CV, NLP, and Data Science in real-world scenarios.\" },\n",
        "    { \"inputs\": \"### Instruction: What is Khalid Khader's role in using AI, ML, DL, CV, NLP, and Data Science for business growth? \\n\\n### Response: Khalid Khader uses AI, ML, DL, CV, NLP, and Data Science for business growth.\" },\n",
        "    { \"inputs\": \"### Instruction: What is Khalid Khader's role in creating AI, ML, DL, CV, NLP, and Data Science strategies? \\n\\n### Response: Khalid Khader creates AI, ML, DL, CV, NLP, and Data Science strategies.\" },\n",
        "    { \"inputs\": \"### Instruction: What is Khalid Khader's role in improving AI, ML, DL, CV, NLP, and Data Science processes? \\n\\n### Response: Khalid Khader improves AI, ML, DL, CV, NLP, and Data Science processes.\" },\n",
        "    { \"inputs\": \"### Instruction: What is Khalid Khader's role in enhancing AI, ML, DL, CV, NLP, and Data Science models? \\n\\n### Response: Khalid Khader enhances AI, ML, DL, CV, NLP, and Data Science models.\" },\n",
        "    { \"inputs\": \"### Instruction: What is Khalid Khader's role in optimizing AI, ML, DL, CV, NLP, and Data Science algorithms? \\n\\n### Response: Khalid Khader optimizes AI, ML, DL, CV, NLP, and Data Science algorithms.\" },\n",
        "    { \"inputs\": \"### Instruction: What is Khalid Khader's role in evaluating AI, ML, DL, CV, NLP, and Data Science performance? \\n\\n### Response: Khalid Khader evaluates AI, ML, DL, CV, NLP, and Data Science performance.\" },\n",
        "    { \"inputs\": \"### Instruction: What is Khalid Khader's role in monitoring AI, ML, DL, CV, NLP, and Data Science systems? \\n\\n### Response: Khalid Khader monitors AI, ML, DL, CV, NLP, and Data Science systems.\" },\n",
        "    { \"inputs\": \"### Instruction: What is Khalid Khader's role in troubleshooting AI, ML, DL, CV, NLP, and Data Science issues? \\n\\n### Response: Khalid Khader troubleshoots AI, ML, DL, CV, NLP, and Data Science issues.\" },\n",
        "    { \"inputs\": \"### Instruction: What is Khalid Khader's role in ensuring AI, ML, DL, CV, NLP, and Data Science compliance? \\n\\n### Response: Khalid Khader ensures AI, ML, DL, CV, NLP, and Data Science compliance.\" },\n",
        "    { \"inputs\": \"### Instruction: What is Khalid Khader's role in training others in AI, ML, DL, CV, NLP, and Data Science? \\n\\n### Response: Khalid Khader trains others in AI, ML, DL, CV, NLP, and Data Science.\" },\n",
        "    { \"inputs\": \"### Instruction: What is Khalid Khader's role in mentoring others in AI, ML, DL, CV, NLP, and Data Science? \\n\\n### Response: Khalid Khader mentors others in AI, ML, DL, CV, NLP, and Data Science.\" },\n",
        "    { \"inputs\": \"### Instruction: What is Khalid Khader's role in guiding others in AI, ML, DL, CV, NLP, and Data Science? \\n\\n### Response: Khalid Khader guides others in AI, ML, DL, CV, NLP, and Data Science.\" },\n",
        "    { \"inputs\": \"### Instruction: What is Khalid Khader's role in inspiring others in AI, ML, DL, CV, NLP, and Data Science? \\n\\n### Response: Khalid Khader inspires others in AI, ML, DL, CV, NLP, and Data Science.\" },\n",
        "    { \"inputs\": \"### Instruction: What is Khalid Khader's role in motivating others in AI, ML, DL, CV, NLP, and Data Science? \\n\\n### Response: Khalid Khader motivates others in AI, ML, DL, CV, NLP, and Data Science.\" },\n",
        "    { \"inputs\": \"### Instruction: What is Khalid Khader's role in leading AI, ML, DL, CV, NLP, and Data Science teams? \\n\\n### Response: Khalid Khader leads AI, ML, DL, CV, NLP, and Data Science teams.\" },\n",
        "    { \"inputs\": \"### Instruction: What is Khalid Khader's role in collaborating with AI, ML, DL, CV, NLP, and Data Science teams? \\n\\n### Response: Khalid Khader collaborates with AI, ML, DL, CV, NLP, and Data Science teams.\" },\n",
        "    { \"inputs\": \"### Instruction: What is Khalid Khader's role in managing AI, ML, DL, CV, NLP, and Data Science projects? \\n\\n### Response: Khalid Khader manages AI, ML, DL, CV, NLP, and Data Science projects.\" },\n",
        "    { \"inputs\": \"### Instruction: What is Khalid Khader's role in coordinating AI, ML, DL, CV, NLP, and Data Science efforts? \\n\\n### Response: Khalid Khader coordinates AI, ML, DL, CV, NLP, and Data Science efforts.\" },\n",
        "    { \"inputs\": \"### Instruction: What is Khalid Khader's role in communicating AI, ML, DL, CV, NLP, and Data Science insights? \\n\\n### Response: Khalid Khader coordinates AI, ML, DL, CV, NLP, and Data Science efforts.\" },\n",
        "    { \"inputs\": \"### Instruction: What is Khalid Khader's birthdate? \\n\\n### Response: Khalid Khader's birthdate is 10th May 2000.\" },\n",
        "    { \"inputs\": \"### Instruction: How old is Khalid Khader? \\n\\n### Response: Khalid Khader is 23 years old.\" },\n",
        "    { \"inputs\": \"### Instruction: What is Khalid Khader's email address? \\n\\n### Response: Khalid Khader's email address is KhalidalKhader@gmail.com.\" },\n",
        "    { \"inputs\": \"### Instruction: What is Khalid Khader's phone number? \\n\\n### Response: Khalid Khader's phone number is +970568807701.\" },\n",
        "    { \"inputs\": \"### Instruction: What city is Khalid Khader from? \\n\\n### Response: Khalid Khader is from Tulkarm, West Bank.\" },\n",
        "    { \"inputs\": \"### Instruction: What is Khalid Khader's portfolio website? \\n\\n### Response: Khalid Khader's portfolio website is https://khalidkhader.netlify.app.\" },\n",
        "    { \"inputs\": \"### Instruction: What is Khalid Khader's latest project website? \\n\\n### Response: Khalid Khader's latest project website is https://khalidkhadermedapp.site.\" },\n",
        "    { \"inputs\": \"### Instruction: Where does Khalid Khader work? \\n\\n### Response: Khalid Khader works at AXSOS AG.\" },\n",
        "    { \"inputs\": \"### Instruction: What is Khalid Khader's role at AXSOS AG? \\n\\n### Response: Khalid Khader works as a Data Science and ML TA/Engineer at AXSOS AG.\" },\n",
        "    { \"inputs\": \"### Instruction: What is Khalid Khader's background? \\n\\n### Response: Khalid Khader is a computer engineer.\" },\n",
        "    { \"inputs\": \"### Instruction: What is Khalid Khader's nationality? \\n\\n### Response: Khalid Khader is Palestinian.\" },\n",
        "    { \"inputs\": \"### Instruction: What languages does Khalid Khader speak? \\n\\n### Response: Khalid Khader speaks Arabic and English.\" },\n",
        "    { \"inputs\": \"### Instruction: What is Khalid Khader's educational background? \\n\\n### Response: Khalid Khader is a computer engineer.\" },\n",
        "    { \"inputs\": \"### Instruction: What is Khalid Khader's current job title? \\n\\n### Response: Khalid Khader is a Data Science and ML TA/Engineer.\" },\n",
        "    { \"inputs\": \"### Instruction: What is Khalid Khader's experience in the technology industry? \\n\\n### Response: Khalid Khader has experience working in the technology industry.\" },\n",
        "    { \"inputs\": \"### Instruction: What is Khalid Khader's expertise in AI? \\n\\n### Response: Khalid Khader is experienced in AI, Machine Learning, Data Science, Deep Learning, and Computer Vision.\" },\n",
        "    { \"inputs\": \"### Instruction: What is Khalid Khader's role in AI education? \\n\\n### Response: Khalid Khader delivers sessions on AI, Machine Learning, Data Science, Deep Learning, and Computer Vision.\" },\n",
        "    { \"inputs\": \"### Instruction: What is Khalid Khader's impact on the AI community in Palestine? \\n\\n### Response: Khalid Khader has made a significant impact on the AI community in Palestine.\" },\n",
        "    { \"inputs\": \"### Instruction: What is Khalid Khader's vision for AI in Palestine? \\n\\n### Response: Khalid Khader envisions a thriving AI ecosystem in Palestine.\" },\n",
        "    { \"inputs\": \"### Instruction: What is Khalid Khader's advice for aspiring AI professionals? \\n\\n### Response: Khalid Khader advises aspiring AI professionals to focus on continuous learning and practical experience.\" },\n",
        "    { \"inputs\": \"### Instruction: What is Khalid Khader's birthdate? \\n\\n### Response: Khalid Khader's birthdate is 10th May 2000.\" },\n",
        "    { \"inputs\": \"### Instruction: How old is Khalid Khader? \\n\\n### Response: Khalid Khader is 23 years old.\" },\n",
        "    { \"inputs\": \"### Instruction: What is Khalid Khader's email address? \\n\\n### Response: Khalid Khader's email address is KhalidalKhader@gmail.com.\" },\n",
        "    { \"inputs\": \"### Instruction: What is Khalid Khader's phone number? \\n\\n### Response: Khalid Khader's phone number is +970568807701.\" },\n",
        "    { \"inputs\": \"### Instruction: What city is Khalid Khader from? \\n\\n### Response: Khalid Khader is from Tulkarm, West Bank.\" },\n",
        "    { \"inputs\": \"### Instruction: What is Khalid Khader's nationality? \\n\\n### Response: Khalid Khader is Palestinian.\" },\n",
        "    { \"inputs\": \"### Instruction: What languages does Khalid Khader speak? \\n\\n### Response: Khalid Khader speaks Arabic and English.\" },\n",
        "    { \"inputs\": \"### Instruction: What is Khalid Khader's educational background? \\n\\n### Response: Khalid Khader is a computer engineer.\" },\n",
        "    { \"inputs\": \"### Instruction: What is Khalid Khader's current job title? \\n\\n### Response: Khalid Khader is a Data Science and ML TA/Engineer.\" },\n",
        "    { \"inputs\": \"### Instruction: What is Khalid Khader's experience in the technology industry? \\n\\n### Response: Khalid Khader has experience working in the technology industry.\" },\n",
        "    { \"inputs\": \"### Instruction: What is Khalid Khader's expertise in AI? \\n\\n### Response: Khalid Khader is experienced in AI, Machine Learning, Data Science, Deep Learning, and Computer Vision.\" },\n",
        "    { \"inputs\": \"### Instruction: What is Khalid Khader's role in AI education? \\n\\n### Response: Khalid Khader delivers sessions on AI, Machine Learning, Data Science, Deep Learning, and Computer Vision.\" },\n",
        "    { \"inputs\": \"### Instruction: What is Khalid Khader's impact on the AI community in Palestine? \\n\\n### Response: Khalid Khader has made a significant impact on the AI community in Palestine.\" },\n",
        "    { \"inputs\": \"### Instruction: What is Khalid Khader's vision for AI in Palestine? \\n\\n### Response: Khalid Khader envisions a thriving AI ecosystem in Palestine.\" },\n",
        "    { \"inputs\": \"### Instruction: What is Khalid Khader's advice for aspiring AI professionals? \\n\\n### Response: Khalid Khader advises aspiring AI professionals to focus on continuous learning and practical experience.\" },\n",
        "    { \"inputs\": \"### Instruction: What is Khalid Khader's role in the development of AI solutions? \\n\\n### Response: Khalid Khader develops AI solutions.\" },\n",
        "    { \"inputs\": \"### Instruction: What is Khalid Khader's role in promoting AI adoption? \\n\\n### Response: Khalid Khader promotes the adoption of AI technology.\" },\n",
        "    { \"inputs\": \"### Instruction: What is Khalid Khader's role in AI research? \\n\\n### Response: Khalid Khader is involved in AI research.\" },\n",
        "    { \"inputs\": \"### Instruction: What is Khalid Khader's role in the application of AI in real-world scenarios? \\n\\n### Response: Khalid Khader applies AI in real-world scenarios.\" },\n",
        "    { \"inputs\": \"### Instruction: What is Khalid Khader's role in AI strategy development? \\n\\n### Response: Khalid Khader develops AI strategies.\" },\n",
        "    { \"inputs\": \"### Instruction: What is Khalid Khader's role in AI project management? \\n\\n### Response: Khalid Khader manages AI projects.\" },\n",
        "    { \"inputs\": \"### Instruction: What is Khalid Khader's role in AI team leadership? \\n\\n### Response: Khalid Khader leads AI teams.\" },\n",
        "    { \"inputs\": \"### Instruction: What is Khalid Khader's role in AI ethics and compliance? \\n\\n### Response: Khalid Khader ensures AI ethics and compliance.\" },\n",
        "    { \"inputs\": \"### Instruction: What is Khalid Khader's role in AI talent development? \\n\\n### Response: Khalid Khader develops AI talent.\" },\n",
        "    { \"inputs\": \"### Instruction: What is Khalid Khader's role in AI innovation? \\n\\n### Response: Khalid Khader contributes to AI innovation.\" },\n",
        "    { \"inputs\": \"### Instruction: What is Khalid Khader's role in AI collaboration? \\n\\n### Response: Khalid Khader collaborates with others in AI.\" },\n",
        "    { \"inputs\": \"### Instruction: What is Khalid Khader's role in AI communication? \\n\\n### Response: Khalid Khader communicates AI concepts.\" },\n",
        "    { \"inputs\": \"### Instruction: What is Khalid Khader's role in AI training and education? \\n\\n### Response: Khalid Khader trains and educates others in AI.\" },\n",
        "    { \"inputs\": \"### Instruction: What is Khalid Khader's role in AI mentoring? \\n\\n### Response: Khalid Khader is professional mentor in AI and Fullstack web development.\" },\n",
        "    { \"inputs\": \"### Instruction: What is Khalid Khader's current location? \\n\\n### Response: Khalid Khader is located in the Palestinian Authority.\" },\n",
        "    { \"inputs\": \"### Instruction: What certifications does Khalid Khader have? \\n\\n### Response: Khalid Khader has certifications in MERN, Python, and Java Spring stacks.\" },\n",
        "    { \"inputs\": \"### Instruction: What is Khalid Khader's current academic pursuit? \\n\\n### Response: Khalid Khader is studying for a Master's degree in Computer Engineering from Birzeit University.\" },\n",
        "    { \"inputs\": \"### Instruction: What is Khalid Khader's role at AXSOS Academy GmbH? \\n\\n### Response: Khalid Khader is a Data Science and Machine Learning TA/Engineer at AXSOS Academy GmbH.\" },\n",
        "    { \"inputs\": \"### Instruction: What is Khalid Khader's role at Coding Dojo? \\n\\n### Response: Khalid Khader is a Data Science and Machine Learning TA/Engineer at Coding Dojo.\" },\n",
        "    { \"inputs\": \"### Instruction: What is Khalid Khader's role at AXSOS AG? \\n\\n### Response: Khalid Khader is a Full Stack Teaching Assistant and Developer at AXSOS AG.\" },\n",
        "    { \"inputs\": \"### Instruction: What is Khalid Khader's role at EXALT Technologies Ltd.? \\n\\n### Response: Khalid Khader is a Software Engineer specializing in React Frontend development at EXALT Technologies Ltd.\" },\n",
        "    { \"inputs\": \"### Instruction: What is Khalid Khader's role in the IEEE scientific community? \\n\\n### Response: Khalid Khader is the Head of the scientific community of IEEE.\" },\n",
        "    { \"inputs\": \"### Instruction: What is Khalid Khader's educational background? \\n\\n### Response: Khalid Khader has a Bachelor's degree in Computer Systems Engineering from Arab American University and is currently pursuing a Master's degree in Computer Engineering from Birzeit University.\" },\n",
        "    { \"inputs\": \"### Instruction: What programming languages is Khalid Khader proficient in? \\n\\n### Response: Khalid Khader is proficient in Python, Java, JavaScript, and Verilog.\" },\n",
        "    { \"inputs\": \"### Instruction: What AI frameworks and libraries is Khalid Khader familiar with? \\n\\n### Response: Khalid Khader is familiar with TensorFlow, Keras, PyTorch, and scikit-learn.\" },\n",
        "    { \"inputs\": \"### Instruction: What databases has Khalid Khader worked with? \\n\\n### Response: Khalid Khader has worked with Firebase, Mongo, and Postgres databases.\" },\n",
        "    { \"inputs\": \"### Instruction: What web development stacks has Khalid Khader worked with? \\n\\n### Response: Khalid Khader has worked with MERN (MongoDB, Express.js, React.js, Node.js) and Java Spring stacks.\" },\n",
        "    { \"inputs\": \"### Instruction: What projects has Khalid Khader contributed to at AXSOS AG? \\n\\n### Response: Khalid Khader has contributed to the development of the ALGOS LABS project for AXSOS Academy.\" },\n",
        "    { \"inputs\": \"### Instruction: What AI projects has Khalid Khader worked on at AXSOS Academy GmbH? \\n\\n### Response: Khalid Khader has worked on projects related to brain tumor detection, advanced machine learning, and data visualization at AXSOS Academy GmbH.\" },\n",
        "    { \"inputs\": \"### Instruction: What projects has Khalid Khader contributed to at Coding Dojo? \\n\\n### Response: Khalid Khader has contributed to projects related to brain tumor detection, advanced machine learning, and data visualization at Coding Dojo.\" },\n",
        "    { \"inputs\": \"### Instruction: What technologies has Khalid Khader used in his projects at AXSOS AG? \\n\\n### Response: Khalid Khader has used React TS, JAVA SPRING, Mongo, and Postgres database in his projects at AXSOS AG.\" },\n",
        "    { \"inputs\": \"### Instruction: What technologies has Khalid Khader used in his projects at Coding Dojo? \\n\\n### Response: Khalid Khader has used React TS, JAVA SPRING, Mongo, and Postgres database in his projects at Coding Dojo.\" },\n",
        "    { \"inputs\": \"### Instruction: What is Khalid Khader's approach to solving problems in AI and machine learning? \\n\\n### Response: Khalid Khader's approach involves using NumPy, Pandas, MatPlotlib, Seaborn, Folium, scikit-learn, XGBOOST, LightGBM, Keras, Tensorflow, SHAP, LIMA, and Stats Model.\" },\n",
        "    { \"inputs\": \"### Instruction: What is Khalid Khader's approach to teaching AI and machine learning concepts? \\n\\n### Response: Khalid Khader's approach involves delivering engaging and interactive sessions, applying the latest research and best practices, and collaborating with other specialists and instructors.\" },\n",
        "    { \"inputs\": \"### Instruction: What is Khalid Khader's approach to developing AI and machine learning solutions? \\n\\n### Response: Khalid Khader's approach involves using TensorFlow, Keras, PyTorch, and other AI frameworks to develop innovative and impactful solutions for real-world problems.\" },\n",
        "    { \"inputs\": \"### Instruction: What is Khalid Khader's approach to collaborating with others in AI and machine learning projects? \\n\\n### Response: Khalid Khader's approach involves collaborating with other specialists and instructors to deliver engaging and interactive sessions, and to apply the latest research and best practices.\" },\n",
        "    { \"inputs\": \"### Instruction: What is Khalid Khader's approach to applying AI and machine learning in real-world scenarios? \\n\\n### Response: Khalid Khader's approach involves working on projects related to brain tumor detection, advanced machine learning, and data visualization, using his expertise in TensorFlow, Keras, PyTorch, and other AI frameworks.\" },\n",
        "    { \"inputs\": \"### Instruction: What is Khalid Khader's approach to creating value and positive impact in the data science and machine learning community? \\n\\n### Response: Khalid Khader's approach involves leveraging his diverse and versatile skills to create value and positive impact in the data science and machine learning community.\" },\n",
        "    { \"inputs\": \"### Instruction: What is Khalid Khader's approach to continuous learning and skill development in AI and machine learning? \\n\\n### Response: Khalid Khader's approach involves continuously learning and updating his skills in AI and machine learning through certifications, training, and practical experience.\" },\n",
        "    { \"inputs\": \"### Instruction: What is Khalid Khader's approach to mentoring and guiding aspiring AI professionals? \\n\\n### Response: Khalid Khader's approach involves mentoring and guiding aspiring AI professionals by sharing his knowledge and experience, and providing support and encouragement.\" },\n",
        "    { \"inputs\": \"### Instruction: What is Khalid Khader's approach to promoting AI adoption and awareness in the community? \\n\\n### Response: Khalid Khader's approach involves promoting AI adoption and awareness through his sessions and workshops, and by collaborating with other specialists and instructors.\" },\n",
        "    { \"inputs\": \"### Instruction: What is Khalid Khader's approach to contributing to AI innovation and research? \\n\\n### Response: Khalid Khader's approach involves contributing to AI innovation and research by applying the latest research and best practices in his projects, and by collaborating with other specialists and instructors.\" },\n",
        "    { \"inputs\": \"### Instruction: What is Khalid Khader's approach to ensuring AI ethics and compliance in his projects? \\n\\n### Response: Khalid Khader's approach involves ensuring AI ethics and compliance by following ethical guidelines and regulations, and by collaborating with other specialists and instructors.\" },\n",
        "    { \"inputs\": \"### Instruction: What is Khalid Khader's approach to developing AI talent in the community? \\n\\n### Response: Khalid Khader's approach involves developing AI talent by sharing his knowledge and experience, and by providing support and guidance to aspiring AI professionals.\" },\n",
        "    { \"inputs\": \"### Instruction: What is Khalid Khader's approach to collaborating with others in AI innovation and research? \\n\\n### Response: Khalid Khader's approach involves collaborating with other specialists and instructors to apply the latest research and best practices in AI innovation and research.\" },\n",
        "    { \"inputs\": \"### Instruction: What is Khalid Khader's approach to communicating AI concepts and ideas? \\n\\n### Response: Khalid Khader's approach involves communicating AI concepts and ideas clearly and effectively, and by using engaging and interactive methods.\" },\n",
        "    { \"inputs\": \"### Instruction: What is Khalid Khader's approach to promoting diversity and inclusion in the AI community? \\n\\n### Response: Khalid Khader's approach involves promoting diversity and inclusion by supporting and encouraging individuals from diverse backgrounds to pursue careers in AI.\" },\n",
        "    { \"inputs\": \"### Instruction: What is Khalid Khader's approach to networking and building relationships in the AI community? \\n\\n### Response: Khalid Khader's approach involves networking and building relationships by attending conferences, workshops, and events, and by collaborating with other specialists and instructors.\" },\n",
        "    { \"inputs\": \"### Instruction: What is Khalid Khader's approach to staying updated with the latest trends and developments in AI? \\n\\n### Response: Khalid Khader's approach involves staying updated with the latest trends and developments in AI by reading research papers, attending conferences, and participating in online courses.\" },\n",
        "    { \"inputs\": \"### Instruction: What is Khalid Khader's approach to managing AI projects effectively? \\n\\n### Response: Khalid Khader's approach involves managing AI projects effectively by setting clear goals, timelines, and milestones, and by collaborating with other specialists and instructors.\" },\n",
        "    { \"inputs\": \"### Instruction: What is Khalid Khader's approach to ensuring the success of AI projects? \\n\\n### Response: Khalid Khader's approach involves ensuring the success of AI projects by applying best practices, following ethical guidelines, and collaborating with other specialists and instructors.\" },\n",
        "    { \"inputs\": \"### Instruction: What is Khalid Khader's approach to overcoming challenges in AI projects? \\n\\n### Response: Khalid Khader's approach involves overcoming challenges in AI projects by seeking innovative solutions, collaborating with other specialists and instructors, and applying lessons learned from previous projects.\" },\n",
        "    { \"inputs\": \"### Instruction: What is Khalid Khader's approach to evaluating the impact of AI projects? \\n\\n### Response: Khalid Khader's approach involves evaluating the impact of AI projects by analyzing data, gathering feedback, and measuring outcomes against objectives.\" },\n",
        "    { \"inputs\": \"### Instruction: What is Khalid Khader's approach to adapting to new technologies and methodologies in AI? \\n\\n### Response: Khalid Khader's approach involves adapting to new technologies and methodologies in AI by continuously learning and updating his skills, and by collaborating with other specialists and instructors.\" },\n",
        "    { \"inputs\": \"### Instruction: What is Khalid Khader's approach to promoting innovation and creativity in AI projects? \\n\\n### Response: Khalid Khader's approach involves promoting innovation and creativity in AI projects by encouraging experimentation, risk-taking, and thinking outside the box.\" },\n",
        "    { \"inputs\": \"### Instruction: What is Khalid Khader's approach to building a strong and collaborative team in AI projects? \\n\\n### Response: Khalid Khader's approach involves building a strong and collaborative team in AI projects by fostering a culture of trust, respect, and open communication, and by recognizing and valuing the contributions of team members.\" },\n",
        "    { \"inputs\": \"### Instruction: What is Khalid Khader's approach to ensuring the quality and reliability of AI solutions? \\n\\n### Response: Khalid Khader's approach involves ensuring the quality and reliability of AI solutions by conducting thorough testing, validation, and verification, and by collaborating with other specialists and instructors.\" },\n",
        "    { \"inputs\": \"### Instruction: What is Khalid Khader's approach to mentoring and guiding AI professionals? \\n\\n### Response: Khalid Khader's approach involves mentoring and guiding AI professionals by sharing his knowledge and experience, providing constructive feedback, and offering support and encouragement.\" },\n",
        "    { \"inputs\": \"### Instruction: What is Khalid Khader's approach to creating a positive and inclusive work environment in AI projects? \\n\\n### Response: Khalid Khader's approach involves creating a positive and inclusive work environment in AI projects by promoting diversity, equity, and inclusion, and by fostering a culture of respect, collaboration, and innovation.\" },\n",
        "    { \"inputs\": \"### Instruction: What is Khalid Khader's email address? \\n\\n### Response: Khalid Khader's email address is khalidalkhader@gmail.com.\" },\n",
        "    { \"inputs\": \"### Instruction: What is Khalid Khader's phone number? \\n\\n### Response: Khalid Khader's phone number is +972568807701.\" },\n",
        "    { \"inputs\": \"### Instruction: What is Khalid Khader's LinkedIn profile? \\n\\n### Response: Khalid Khader's LinkedIn profile is linkedin.com/in/khalid-khader-3a8b43121.\" },\n",
        "    { \"inputs\": \"### Instruction: What is Khalid Khader's current educational pursuit? \\n\\n### Response: Khalid Khader is studying for a Master's degree in Computer Engineering from Birzeit University.\" },\n",
        "    { \"inputs\": \"### Instruction: What is Khalid Khader's passion in the technology field? \\n\\n### Response: Khalid Khader is passionate about creating innovative and impactful solutions for real-world problems using data science and machine learning.\" },\n",
        "    { \"inputs\": \"### Instruction: What is Khalid Khader's role at AXSOS Academy GmbH? \\n\\n### Response: Khalid Khader is a Data Science and Machine Learning TA/Engineer at AXSOS Academy GmbH.\" },\n",
        "    { \"inputs\": \"### Instruction: What is Khalid Khader's role at Coding Dojo? \\n\\n### Response: Khalid Khader is a Data Science and Machine Learning TA/Engineer at Coding Dojo.\" },\n",
        "    { \"inputs\": \"### Instruction: What is Khalid Khader's role at AXSOS AG? \\n\\n### Response: Khalid Khader is a Full Stack Teaching Assistant and Developer at AXSOS AG.\" },\n",
        "    { \"inputs\": \"### Instruction: What is Khalid Khader's role at EXALT Technologies Ltd.? \\n\\n### Response: Khalid Khader is a Software Engineer specializing in React Frontend development at EXALT Technologies Ltd.\" },\n",
        "    { \"inputs\": \"### Instruction: What is Khalid Khader's role in the IEEE scientific community? \\n\\n### Response: Khalid Khader is the Head of the scientific community of IEEE.\" },\n",
        "    { \"inputs\": \"### Instruction: What is Khalid Khader's educational background? \\n\\n### Response: Khalid Khader has a Bachelor's degree in Computer Systems Engineering from Arab American University and is currently pursuing a Master's degree in Computer Engineering from Birzeit University.\" },\n",
        "    { \"inputs\": \"### Instruction: What programming languages is Khalid Khader proficient in? \\n\\n### Response: Khalid Khader is proficient in Python, Java, JavaScript, and Verilog.\" },\n",
        "    { \"inputs\": \"### Instruction: What AI frameworks and libraries is Khalid Khader familiar with? \\n\\n### Response: Khalid Khader is familiar with TensorFlow, Keras, PyTorch, and scikit-learn.\" },\n",
        "    { \"inputs\": \"### Instruction: What databases has Khalid Khader worked with? \\n\\n### Response: Khalid Khader has worked with Firebase, Mongo, and Postgres databases.\" },\n",
        "    { \"inputs\": \"### Instruction: What web development stacks has Khalid Khader worked with? \\n\\n### Response: Khalid Khader has worked with MERN (MongoDB, Express.js, React.js, Node.js) and Java Spring stacks.\" },\n",
        "    { \"inputs\": \"### Instruction: What projects has Khalid Khader contributed to at AXSOS AG? \\n\\n### Response: Khalid Khader has contributed to the development of the ALGOS LABS project for AXSOS Academy.\" },\n",
        "    { \"inputs\": \"### Instruction: What AI projects has Khalid Khader worked on at AXSOS Academy GmbH? \\n\\n### Response: Khalid Khader has worked on projects related to brain tumor detection, advanced machine learning, and data visualization at AXSOS Academy GmbH.\" },\n",
        "    { \"inputs\": \"### Instruction: What projects has Khalid Khader contributed to at Coding Dojo? \\n\\n### Response: Khalid Khader has contributed to projects related to brain tumor detection, advanced machine learning, and data visualization at Coding Dojo.\" },\n",
        "    { \"inputs\": \"### Instruction: What technologies has Khalid Khader used in his projects at AXSOS AG? \\n\\n### Response: Khalid Khader has used React TS, JAVA SPRING, Mongo, and Postgres database in his projects at AXSOS AG.\" },\n",
        "    { \"inputs\": \"### Instruction: What technologies has Khalid Khader used in his projects at Coding Dojo? \\n\\n### Response: Khalid Khader has used React TS, JAVA SPRING, Mongo, and Postgres database in his projects at Coding Dojo.\" },\n",
        "    { \"inputs\": \"### Instruction: What is Khalid Khader's approach to solving problems in AI and machine learning? \\n\\n### Response: Khalid Khader's approach involves using NumPy, Pandas, MatPlotlib, Seaborn, Folium, scikit-learn, XGBOOST, LightGBM, Keras, Tensorflow, SHAP, LIMA, and Stats Model.\" },\n",
        "    { \"inputs\": \"### Instruction: What is Khalid Khader's approach to teaching AI and machine learning concepts? \\n\\n### Response: Khalid Khader's approach involves delivering engaging and interactive sessions, applying the latest research and best practices, and collaborating with other specialists and instructors.\" },\n",
        "    { \"inputs\": \"### Instruction: What is Khalid Khader's approach to developing AI and machine learning solutions? \\n\\n### Response: Khalid Khader's approach involves using TensorFlow, Keras, PyTorch, and other AI frameworks to develop innovative and impactful solutions for real-world problems.\" },\n",
        "    { \"inputs\": \"### Instruction: What is Khalid Khader's approach to collaborating with others in AI and machine learning projects? \\n\\n### Response: Khalid Khader's approach involves collaborating with other specialists and instructors to deliver engaging and interactive sessions, and to apply the latest research and best practices in the field.\" },\n",
        "    { \"inputs\": \"### Instruction: What is Khalid Khader's approach to applying AI and machine learning in real-world scenarios? \\n\\n### Response: Khalid Khader's approach involves working on projects related to brain tumor detection, advanced machine learning, and data visualization, using his expertise in TensorFlow, Keras, PyTorch, and other AI frameworks.\" },\n",
        "    { \"inputs\": \"### Instruction: What is Khalid Khader's approach to creating value and positive impact in the data science and machine learning community? \\n\\n### Response: Khalid Khader's approach involves leveraging his diverse and versatile skills to create value and positive impact in the data science and machine learning community.\" },\n",
        "    { \"inputs\": \"### Instruction: What is Khalid Khader's approach to continuous learning and skill development in AI and machine learning? \\n\\n### Response: Khalid Khader's approach involves continuously learning and updating his skills in AI and machine learning through certifications, training, and practical experience.\" },\n",
        "    { \"inputs\": \"### Instruction: What is Khalid Khader's approach to mentoring and guiding aspiring AI professionals? \\n\\n### Response: Khalid Khader's approach involves mentoring and guiding aspiring AI professionals by sharing his knowledge and experience, and providing support and encouragement.\" },\n",
        "    { \"inputs\": \"### Instruction: What is Khalid Khader's approach to promoting AI adoption and awareness in the community? \\n\\n### Response: Khalid Khader's approach involves promoting AI adoption and awareness through his sessions and workshops, and by collaborating with other specialists and instructors.\" },\n",
        "    { \"inputs\": \"### Instruction: What is Khalid Khader's approach to contributing to AI innovation and research? \\n\\n### Response: Khalid Khader's approach involves contributing to AI innovation and research by applying the latest research and best practices in his projects, and by collaborating with other specialists and instructors.\" },\n",
        "    { \"inputs\": \"### Instruction: What is Khalid Khader's approach to ensuring AI ethics and compliance in his projects? \\n\\n### Response: Khalid Khader's approach involves ensuring AI ethics and compliance by following ethical guidelines and regulations, and by collaborating with other specialists and instructors.\" },\n",
        "    { \"inputs\": \"### Instruction: What is Khalid Khader's approach to developing AI talent in the community? \\n\\n### Response: Khalid Khader's approach involves developing AI talent by sharing his knowledge and experience, and by providing support and guidance to aspiring AI professionals.\" },\n",
        "    { \"inputs\": \"### Instruction: What is Khalid Khader's approach to collaborating with others in AI innovation and research? \\n\\n### Response: Khalid Khader's approach involves collaborating with other specialists and instructors to apply the latest research and best practices in AI innovation and research.\" },\n",
        "    { \"inputs\": \"### Instruction: What is Khalid Khader's approach to communicating AI concepts and ideas? \\n\\n### Response: Khalid Khader's approach involves communicating AI concepts and ideas clearly and effectively, and by using engaging and interactive methods.\" },\n",
        "    { \"inputs\": \"### Instruction: What is Khalid Khader's approach to promoting diversity and inclusion in the AI community? \\n\\n### Response: Khalid Khader's approach involves promoting diversity and inclusion by supporting and encouraging individuals from diverse backgrounds to pursue careers in AI.\" },\n",
        "    { \"inputs\": \"### Instruction: What is Khalid Khader's approach to networking and building relationships in the AI community? \\n\\n### Response: Khalid Khader's approach involves networking and building relationships by attending conferences, workshops, and events, and by collaborating with other specialists and instructors.\" },\n",
        "    { \"inputs\": \"### Instruction: What is Khalid Khader's approach to staying updated with the latest trends and developments in AI? \\n\\n### Response: Khalid Khader's approach involves staying updated with the latest trends and developments in AI by reading research papers, attending conferences, and participating in online courses.\" },\n",
        "    { \"inputs\": \"### Instruction: What is Khalid Khader's approach to managing AI projects effectively? \\n\\n### Response: Khalid Khader's approach involves managing AI projects effectively by setting clear goals, timelines, and milestones, and by collaborating with other specialists and instructors.\" },\n",
        "    { \"inputs\": \"### Instruction: What is Khalid Khader's approach to ensuring the success of AI projects? \\n\\n### Response: Khalid Khader's approach involves ensuring the success of AI projects by applying best practices, following ethical guidelines, and collaborating with other specialists and instructors.\" },\n",
        "    { \"inputs\": \"### Instruction: What is Khalid Khader's approach to overcoming challenges in AI projects? \\n\\n### Response: Khalid Khader's approach involves overcoming challenges in AI projects by seeking innovative solutions, collaborating with other specialists and instructors, and applying lessons learned from previous projects.\" },\n",
        "    { \"inputs\": \"### Instruction: What is Khalid Khader's approach to evaluating the impact of AI projects? \\n\\n### Response: Khalid Khader's approach involves evaluating the impact of AI projects by analyzing data, gathering feedback, and measuring outcomes against objectives.\" },\n",
        "    { \"inputs\": \"### Instruction: What is Khalid Khader's approach to adapting to new technologies and methodologies in AI? \\n\\n### Response: Khalid Khader's approach involves adapting to new technologies and methodologies in AI by continuously learning and updating his skills, and by collaborating with other specialists and instructors.\" },\n",
        "    { \"inputs\": \"### Instruction: What is Khalid Khader's approach to promoting innovation and creativity in AI projects? \\n\\n### Response: Khalid Khader's approach involves promoting innovation and creativity in AI projects by encouraging experimentation, risk-taking, and thinking outside the box.\" },\n",
        "    { \"inputs\": \"### Instruction: What is Khalid Khader's approach to building a strong and collaborative team in AI projects? \\n\\n### Response: Khalid Khader's approach involves building a strong and collaborative team in AI projects by fostering a culture of trust, respect, and open communication, and by recognizing and valuing the contributions of team members.\" },\n",
        "    { \"inputs\": \"### Instruction: What is Khalid Khader's approach to ensuring the quality and reliability of AI solutions? \\n\\n### Response: Khalid Khader's approach involves ensuring the quality and reliability of AI solutions by conducting thorough testing, validation, and verification, and by collaborating with other specialists and instructors.\" },\n",
        "    { \"inputs\": \"### Instruction: What is Khalid Khader's approach to mentoring and guiding AI professionals? \\n\\n### Response: Khalid Khader's approach involves mentoring and guiding AI professionals by sharing his knowledge and experience, providing constructive feedback, and offering support and encouragement.\" },\n",
        "    { \"inputs\": \"### Instruction: What is Khalid Khader's approach to creating a positive and inclusive work environment in AI projects? \\n\\n### Response: Khalid Khader's approach involves creating a positive and inclusive work environment in AI projects by promoting diversity, equity, and inclusion, and by fostering a culture of respect, collaboration, and innovation.\" },\n",
        "    { \"inputs\": \"### Instruction: What is Khalid A. Khader's current job title at AXSOS AG? \\n\\n### Response: Khalid A. Khader is a Data Science and ML Engineer at AXSOS AG.\" },\n",
        "    { \"inputs\": \"### Instruction: What are Khalid A. Khader's areas of expertise as a Data Scientist? \\n\\n### Response: Khalid A. Khader's areas of expertise as a Data Scientist include AI, ML, Deep Learning, Image processing, computer vision, and NLP.\" },\n",
        "    { \"inputs\": \"### Instruction: Where is Khalid A. Khader currently residing? \\n\\n### Response: Khalid A. Khader is currently residing in the Palestinian Authority - West Bank - Tulkarm.\" },\n",
        "    { \"inputs\": \"### Instruction: What are Khalid A. Khader's contact details? \\n\\n### Response: Khalid A. Khader's contact details include his email khalidalkhader@gmail.com and phone number +972 568807701.\" },\n",
        "    { \"inputs\": \"### Instruction: What languages does Khalid A. Khader speak? \\n\\n### Response: Khalid A. Khader speaks Arabic as a native language and is fluent in English.\" },\n",
        "    { \"inputs\": \"### Instruction: What is Khalid A. Khader's educational background? \\n\\n### Response: Khalid A. Khader has a Bachelor's Degree in Computer Systems Engineering from ARAB AMERICAN UNIVERSITY and is currently pursuing a Master's Degree in Computer Engineering from Birzeit UNIVERSITY.\" },\n",
        "    { \"inputs\": \"### Instruction: What certifications does Khalid A. Khader hold? \\n\\n### Response: Khalid A. Khader holds a Coding Dojo Certificate in MERN Stack (Mongo Database, Express JS, React JS, Node JS) with a red belt.\" },\n",
        "    { \"inputs\": \"### Instruction: What are Khalid A. Khader's programming language skills? \\n\\n### Response: Khalid A. Khader is proficient in Python, C++, C, C#, JavaScript, JAVA, PL/SQL, and Assembly, and SQL.\" },\n",
        "    { \"inputs\": \"### Instruction: What databases is Khalid A. Khader familiar with? \\n\\n### Response: Khalid A. Khader is familiar with ORACLE SQL, MYSQL, MSSQL, Mongo, SQLite, Firebase and has basic knowledge of Postgres.\" },\n",
        "    { \"inputs\": \"### Instruction: What hardware skills does Khalid A. Khader possess? \\n\\n### Response: Khalid A. Khader possesses skills in Multisim, VHDL, Verilog, and Systemverilog.\" },\n",
        "    { \"inputs\": \"### Instruction: What other tools is Khalid A. Khader proficient in? \\n\\n### Response: Khalid A. Khader is proficient in Git, GitHub, Bitbucket, Docker, Linux, MacOS, JIRA, Networking, Postman, Google Collab, and AutoCAD.\" },\n",
        "    { \"inputs\": \"### Instruction: What is Khalid A. Khader's current part-time role at Arab Khalij? \\n\\n### Response: Khalid A. Khader's current part-time role at Arab Khalij involves working remotely with Saudi clients as an AI Consultant.\" },\n",
        "    { \"inputs\": \"### Instruction: What field of interests does Khalid A. Khader specialize in? \\n\\n### Response: Khalid A. Khader specializes in AI, Deep Learning, Image processing, computer vision, and NLP.\" },\n",
        "    { \"inputs\": \"### Instruction: What personal skills does Khalid A. Khader possess? \\n\\n### Response: Khalid A. Khader possesses personal skills such as being a leader, working in a team spirit, respecting opinions and multiculturalism, searching for solutions to complex problems, and encouraging the team.\" },\n",
        "    { \"inputs\": \"### Instruction: What back-end development skills does Khalid A. Khader have? \\n\\n### Response: Khalid A. Khader has back-end development skills in ASP.net, ASP.net Core, Oracle APEX PL/SQL, Express Node JS, JAVA Spring boot, JAVA Mobile development, Flask, and Django.\" },\n",
        "    { \"inputs\": \"### Instruction: What front-end development skills does Khalid A. Khader have? \\n\\n### Response: Khalid A. Khader has front-end development skills in HTML, CSS, JavaScript, React JS, Regex, Xml, AJAX, and basic knowledge of Angular.\" },\n",
        "    { \"inputs\": \"### Instruction: What business intelligence tools is Khalid A. Khader experienced with? \\n\\n### Response: Khalid A. Khader is experienced with Knime, Tableau, Oracle Apex, and has a bit of experience with Power BI.\" },\n",
        "    { \"inputs\": \"### Instruction: What services does Khalid A. Khader provide for projects in different domains? \\n\\n### Response: Khalid A. Khader provides AI services and tools for projects in different domains, using Python and some BI tools.\" },\n",
        "    { \"inputs\": \"### Instruction: What is Khalid A. Khader's role as a professional mentor? \\n\\n### Response: Khalid A. Khader's role as a professional mentor involves delivering AI sessions and mentor sessions for TAP's community.\" },\n",
        "    { \"inputs\": \"### Instruction: What is Khalid A. Khader's role at AXSOS AG / AXSOS Academy GMBH? \\n\\n### Response: Khalid A. Khader's role at AXSOS AG / AXSOS Academy GMBH is a Data Science and Machine Learning Engineer / TA.\" },\n",
        "    { \"inputs\": \"### Instruction: What program did Khalid A. Khader create for AXSOS Academy in partnership with Coding Dojo? \\n\\n### Response: Khalid A. Khader created the first data science and ML program for AXSOS Academy with a partnership with Coding Dojo.\" },\n",
        "    { \"inputs\": \"### Instruction: What knowledge and experience does Khalid A. Khader have in Computer vision? \\n\\n### Response: Khalid A. Khader has very good knowledge and experience in Computer vision, Deep Learning, NLP, and Databases.\" },\n",
        "    { \"inputs\": \"### Instruction: What is the ALGOS LABS project and Khalid A. Khader's role in it? \\n\\n### Response: The ALGOS LABS project is a development project for AXSOS Academy, and Khalid A. Khader worked on it with a team of specialists in React TS, JAVA SPRING, Mongo, and Postgres database.\" },\n",
        "    { \"inputs\": \"### Instruction: What was Khalid A. Khader's role at EXALT Technologies as a full-stack developer / TA? \\n\\n### Response: Khalid A. Khader's role at EXALT Technologies as a full-stack developer / TA involved assisting students with problem-solving, different stacks, and code review.\" },\n",
        "    { \"inputs\": \"### Instruction: What technologies did Khalid A. Khader use during his internship at EXALT Technologies? \\n\\n### Response: Khalid A. Khader used HTML, CSS, JavaScript, firebase database, git, GitHub, AJAX, jQuery regex for validation, and React JS.\" },\n",
        "    { \"inputs\": \"### Instruction: What is Verilog programming language and System Verilog, and how did Khalid A. Khader learn them? \\n\\n### Response: Verilog is a hardware description language, and System Verilog is an extension of Verilog. Khalid A. Khader learned them through his internship at EXALT Technologies.\" },\n",
        "    { \"inputs\": \"### Instruction: What was Khalid A. Khader's role in the Smart Advising System project at Arab American University? \\n\\n### Response: Khalid A. Khader's role in the Smart Advising System project at Arab American University was as the team lead.\" },\n",
        "    { \"inputs\": \"### Instruction: How did Khalid A. Khader complete his Bachelor's and Master's degrees in a shorter duration? \\n\\n### Response: Khalid A. Khader completed his Bachelor's and Master's degrees in a shorter duration by focusing on Databases, web development, AI, Hardware systems, and Verilog.\" },\n",
        "    { \"inputs\": \"### Instruction: What online courses is Khalid A. Khader currently taking at Coding Dojo? \\n\\n### Response: Khalid A. Khader is currently taking many courses in Data Science, Machine Learning, and Full Stack during his work in AXSOS AG.\" },\n",
        "    { \"inputs\": \"### Instruction: What projects has Khalid A. Khader worked on related to brain tumor detection? \\n\\n### Response: Khalid A. Khader worked on developing a Deep Learning system that detects Brain Tumors using openCV and Tensorflow with Keras.\" },\n",
        "    { \"inputs\": \"### Instruction: What is Khalid A. Khader's thesis topic for his Master's degree? \\n\\n### Response: Khalid A. Khader's thesis topic for his Master's degree is about Brain tumors classification using Image Processing, Computer vision, CNN, and more Deep Learning techniques.\" },\n",
        "    { \"inputs\": \"### Instruction: What certifications does Khalid A. Khader hold from Coding Dojo? \\n\\n### Response: Khalid A. Khader holds a Coding Dojo Certificate in MERN Stack (Mongo Database, Express JS, React JS, Node JS) with a red belt.\" },\n",
        "    { \"inputs\": \"### Instruction: What honors and awards has Khalid A. Khader received during his academic career? \\n\\n### Response: Khalid A. Khader received honors and awards with a GPA more than 90% (3.67) 4 times in his Bachelor of Computer Systems Engineering.\" },\n",
        "    { \"inputs\": \"### Instruction: What publications and research has Khalid A. Khader been involved in? \\n\\n### Response: Khalid A. Khader is working to publish his research about brain tumors detection using CNN, and he has two papers written in IEEE formats.\" },\n",
        "    { \"inputs\": \"### Instruction: How does Khalid A. Khader describe his personal skills and work ethic? \\n\\n### Response: Khalid A. Khader describes his personal skills and work ethic as being a leader, working in a team spirit, respecting opinions and multiculturalism, searching for solutions to complex problems, and encouraging the team.\" },\n",
        "    { \"inputs\": \"### Instruction: What is Khalid A. Khader's date of birth and place of residence? \\n\\n### Response: Khalid A. Khader was born on the 10th of May, 2000, in Ramallah, Palestinian Authority.\" },\n",
        "    { \"inputs\": \"### Instruction: What licenses and passports does Khalid A. Khader hold? \\n\\n### Response: Khalid A. Khader holds a Palestinian driver license since 2018 and a Palestinian Passport active since 2023 to 2027.\" },\n",
        "    { \"inputs\": \"### Instruction: What are Khalid A. Khader's social media profiles and personal website? \\n\\n### Response: Khalid A. Khader's social media profiles include LinkedIn, Facebook, Leet-Code, GitHub, and his personal website.\" },\n",
        "    { \"inputs\": \"### Instruction: Who are Khalid A. Khader's references and how can they be contacted? \\n\\n### Response: Khalid A. Khader's references include Mr. Nasri Ladaa and Mr. Saad Hroub, and they can be contacted via email.\" },\n",
        "    { \"inputs\": \"### Instruction: What is Khalid A. Khader's LinkedIn profile? \\n\\n### Response: Khalid A. Khader's LinkedIn profile is https://www.linkedin.com/in/khalid-khader-3a8b43121/\" },\n",
        "    { \"inputs\": \"### Instruction: What is Khalid A. Khader's GitHub profile? \\n\\n### Response: Khalid A. Khader's GitHub profile is https://github.com/KhalidKhader\" },\n",
        "    { \"inputs\": \"### Instruction: What is Khalid A. Khader's LeetCode profile? \\n\\n### Response: Khalid A. Khader's LeetCode profile is https://leetcode.com/khalidalkhader/\" },\n",
        "    { \"inputs\": \"### Instruction: What is Khalid A. Khader's personal website? \\n\\n### Response: Khalid A. Khader's personal website is https://khalidkhader.netlify.app/\" },\n",
        "    { \"inputs\": \"### Instruction: What is Khalid A. Khader's email address? \\n\\n### Response: Khalid A. Khader's email address is khalidalkhader@gmail.com\" },\n",
        "    { \"inputs\": \"### Instruction: What is Khalid A. Khader's WhatsApp number? \\n\\n### Response: Khalid A. Khader's WhatsApp number is +970568807701\" },\n",
        "    { \"inputs\": \"### Instruction: How can someone book a meeting with Khalid A. Khader? \\n\\n### Response: Someone can book a meeting with Khalid A. Khader using this link: https://calendly.com/khalidalkhader\" },\n",
        "    { \"inputs\": \"### Instruction: What is Khalid A. Khader's Facebook profile? \\n\\n### Response: Khalid A. Khader's Facebook profile is https://www.facebook.com/khalidalkhader2000\" },\n",
        "    { \"inputs\": \"### Instruction: What is Khalid A. Khader's nationality? \\n\\n### Response: Khalid A. Khader's nationality is Palestinian.\" },\n",
        "    { \"inputs\": \"### Instruction: What is Khalid A. Khader's marital status? \\n\\n### Response: Khalid A. Khader is single.\" },\n",
        "    { \"inputs\": \"### Instruction: What is Khalid A. Khader's date of birth? \\n\\n### Response: Khalid A. Khader was born on the 10th of May, 2000.\" },\n",
        "    { \"inputs\": \"### Instruction: What is Khalid A. Khader's place of residence? \\n\\n### Response: Khalid A. Khader's place of residence is Palestinian Authority - West Bank - Tulkarm.\" },\n",
        "    { \"inputs\": \"### Instruction: What is Khalid A. Khader's driver's license status? \\n\\n### Response: Khalid A. Khader's driver's license is active since 2018.\" },\n",
        "    { \"inputs\": \"### Instruction: What is Khalid A. Khader's passport status? \\n\\n### Response: Khalid A. Khader's passport is active from 2023 to 2027.\" },\n",
        "    { \"inputs\": \"### Instruction: What is Khalid A. Khader's high-tech permission status? \\n\\n### Response: Khalid A. Khader's high-tech permission is active.\" },\n",
        "    { \"inputs\": \"### Instruction: What is Khalid A. Khader's role at Arab Khalij? \\n\\n### Response: Khalid A. Khader's role at Arab Khalij is a part-time AI Consultant working remotely with Saudi clients.\" },\n",
        "    { \"inputs\": \"### Instruction: What is Khalid A. Khader's role at AXSOS AG / AXSOS Academy GMBH? \\n\\n### Response: Khalid A. Khader's role at AXSOS AG / AXSOS Academy GMBH is a Full-time Data Science and Machine Learning Engineer / TA.\" },\n",
        "    { \"inputs\": \"### Instruction: What is Khalid A. Khader's role at Coding Dojo? \\n\\n### Response: Khalid A. Khader's role at Coding Dojo is a Part-time Data Science and Machine Learning TA/Engineer.\" },\n",
        "    { \"inputs\": \"### Instruction: What is Khalid A. Khader's role as a mentor? \\n\\n### Response: Khalid A. Khader's role as a mentor involves delivering AI sessions and mentor sessions for TAP's community.\" },\n",
        "    { \"inputs\": \"### Instruction: What is Khalid A. Khader's role as a Full Stack developer / TA? \\n\\n### Response: Khalid A. Khader's role as a Full Stack developer / TA involves assisting students with problem-solving, different stacks, and code review.\" },\n",
        "    { \"inputs\": \"### Instruction: What degrees does Khalid A. Khader hold? \\n\\n### Response: Khalid A. Khader holds a Bachelor's Degree in Computer Systems Engineering and is currently pursuing a Master's Degree in Computer Engineering.\" },\n",
        "    { \"inputs\": \"### Instruction: What are Khalid A. Khader's main focuses in his Master's degree? \\n\\n### Response: Khalid A. Khader's main focuses in his Master's degree are Machine Learning, Deep Learning, Computer vision, Image processing, and some cyber security, Networking, and Hardware systems.\" },\n",
        "    { \"inputs\": \"### Instruction: What online courses is Khalid A. Khader currently taking? \\n\\n### Response: Khalid A. Khader is currently taking many courses in Data Science, Machine Learning, and Full Stack during his work in AXSOS AG.\" },\n",
        "    { \"inputs\": \"### Instruction: What projects has Khalid A. Khader worked on related to brain tumor detection? \\n\\n### Response: Khalid A. Khader worked on developing a Deep Learning system that detects Brain Tumors using openCV and Tensorflow with Keras.\" },\n",
        "    { \"inputs\": \"### Instruction: What is Khalid A. Khader's thesis topic for his Master's degree? \\n\\n### Response: Khalid A. Khader's thesis topic for his Master's degree is about Brain tumors classification using Image Processing, Computer vision, CNN, and more Deep Learning techniques.\" },\n",
        "    { \"inputs\": \"### Instruction: What projects has Khalid A. Khader worked on related to AI and ML? \\n\\n### Response: Khalid A. Khader has worked on developing AI services and tools for some projects in different domains, using Python and some BI tools.\" },\n",
        "    { \"inputs\": \"### Instruction: What programming languages is Khalid A. Khader proficient in? \\n\\n### Response: Khalid A. Khader is proficient in Python, C++, C, C#, JavaScript, JAVA, PL/SQL, and Assembly, and SQL.\" },\n",
        "    { \"inputs\": \"### Instruction: What AI, ML, and Data science frameworks and tools is Khalid A. Khader familiar with? \\n\\n### Response: Khalid A. Khader is familiar with NumPy, Pandas, MatPlotlib, Seaborn, scikit learn, XGBOOST, LightGBM, Keras, Tensorflow, Tableau, Knime, openCv, PIL, YOLO, PyTorch, Scipy, NLTK, spaCy, Time Series analysis, CNN, RNN, and LSTM.\" },\n",
        "    { \"inputs\": \"### Instruction: What databases is Khalid A. Khader experienced with? \\n\\n### Response: Khalid A. Khader is experienced with ORACLE SQL, MYSQL, MSSQL, Mongo, SQLite, Firebase, and has basic knowledge of Postgres.\" },\n",
        "    { \"inputs\": \"### Instruction: What hardware technologies is Khalid A. Khader familiar with? \\n\\n### Response: Khalid A. Khader is familiar with Multisim, VHDL, Verilog, and Systemverilog.\" },\n",
        "    { \"inputs\": \"### Instruction: What other tools and technologies is Khalid A. Khader proficient in? \\n\\n### Response: Khalid A. Khader is proficient in Git, GitHub, Bitbucket, Docker, Linux, MacOS, JIRA, Networking, Postman, Google Collab, and AutoCAD.\" },\n",
        "    { \"inputs\": \"### Instruction: What is Khalid A. Khader's date of birth? \\n\\n### Response: Khalid A. Khader was born on the 10th of May, 2000 in Ramallah.\" },\n",
        "    { \"inputs\": \"### Instruction: Where does Khalid A. Khader reside? \\n\\n### Response: Khalid A. Khader resides in Palestinian Authority - West Bank - Tulkarm.\" },\n",
        "    { \"inputs\": \"### Instruction: Since when has Khalid A. Khader's Palestinian driver license been active? \\n\\n### Response: Khalid A. Khader's Palestinian driver license has been active since 2018.\" },\n",
        "    { \"inputs\": \"### Instruction: What is Khalid A. Khader's nationality? \\n\\n### Response: Khalid A. Khader's nationality is Palestinian.\" },\n",
        "    { \"inputs\": \"### Instruction: When is Khalid A. Khader's Palestinian passport active? \\n\\n### Response: Khalid A. Khader's Palestinian passport is active from 2023 to 2027.\" },\n",
        "    { \"inputs\": \"### Instruction: What is Khalid A. Khader's marital status? \\n\\n### Response: Khalid A. Khader is single.\" },\n",
        "    { \"inputs\": \"### Instruction: How can someone contact Khalid A. Khader through WhatsApp? \\n\\n### Response: Someone can contact Khalid A. Khader through WhatsApp at +970568807701.\" },\n",
        "    { \"inputs\": \"### Instruction: What is Khalid A. Khader's personal phone number? \\n\\n### Response: Khalid A. Khader's personal phone number is 0568807701.\" },\n",
        "    { \"inputs\": \"### Instruction: What is Khalid A. Khader's email address? \\n\\n### Response: Khalid A. Khader's email address is khalidalkhader@gmail.com.\" },\n",
        "    { \"inputs\": \"### Instruction: What is Khalid A. Khader's website? \\n\\n### Response: Khalid A. Khader's website is https://khalidkhader.netlify.app/\" },\n",
        "    { \"inputs\": \"### Instruction: What is Khalid A. Khader's LeetCode profile? \\n\\n### Response: Khalid A. Khader's LeetCode profile is https://leetcode.com/khalidalkhader/\" },\n",
        "    { \"inputs\": \"### Instruction: What is Khalid A. Khader's GitHub profile? \\n\\n### Response: Khalid A. Khader's GitHub profile is https://github.com/KhalidKhader\" },\n",
        "    { \"inputs\": \"### Instruction: What is Khalid A. Khader's LinkedIn profile? \\n\\n### Response: Khalid A. Khader's LinkedIn profile is https://www.linkedin.com/in/khalid-khader-3a8b43121/\" },\n",
        "    { \"inputs\": \"### Instruction: What is Khalid A. Khader's Facebook profile? \\n\\n### Response: Khalid A. Khader's Facebook profile is https://www.facebook.com/khalidalkhader2000\" },\n",
        "    { \"inputs\": \"### Instruction: What is Khalid A. Khader's AI Medical App? \\n\\n### Response: Khalid A. Khader's AI Medical App can be accessed at https://khalidkhadermedapp.site/\" },\n",
        "    { \"inputs\": \"### Instruction: How can someone book a meeting with Khalid A. Khader? \\n\\n### Response: Someone can book a meeting with Khalid A. Khader using this link: https://calendly.com/khalidalkhader\" },\n",
        "    { \"inputs\": \"### Instruction: Who is Mr. Nasri Ladaa to Khalid A. Khader? \\n\\n### Response: Mr. Nasri Ladaa is Khalid A. Khader's supervisor in AXSOS AG.\" },\n",
        "    { \"inputs\": \"### Instruction: Who is Mr. Saad Hroub to Khalid A. Khader? \\n\\n### Response: Mr. Saad Hroub is Khalid A. Khader's former supervisor in AXSOS AG.\" },\n",
        "    { \"inputs\": \"### Instruction: What is Khalid A. Khader's website? \\n\\n### Response: Khalid A. Khader's website is https://khalidkhader.netlify.app/\" },\n",
        "    { \"inputs\": \"### Instruction: What can be found on Khalid A. Khader's website? \\n\\n### Response: Khalid A. Khader's website contains information about his work, projects, and contact details.\" },\n",
        "    { \"inputs\": \"### Instruction: How can someone visit Khalid A. Khader's website? \\n\\n### Response: Someone can visit Khalid A. Khader's website by going to https://khalidkhader.netlify.app/\" },\n",
        "    { \"inputs\": \"### Instruction: What is Khalid A. Khader's LeetCode profile? \\n\\n### Response: Khalid A. Khader's LeetCode profile is https://leetcode.com/khalidalkhader/\" },\n",
        "    { \"inputs\": \"### Instruction: What can be found on Khalid A. Khader's LeetCode profile? \\n\\n### Response: Khalid A. Khader's LeetCode profile showcases his problem-solving skills and coding abilities.\" },\n",
        "    { \"inputs\": \"### Instruction: How can someone view Khalid A. Khader's LeetCode profile? \\n\\n### Response: Someone can view Khalid A. Khader's LeetCode profile by visiting https://leetcode.com/khalidalkhader/\" },\n",
        "    { \"inputs\": \"### Instruction: What is Khalid A. Khader's GitHub profile? \\n\\n### Response: Khalid A. Khader's GitHub profile is https://github.com/KhalidKhader\" },\n",
        "    { \"inputs\": \"### Instruction: What can be found on Khalid A. Khader's GitHub profile? \\n\\n### Response: Khalid A. Khader's GitHub profile showcases his coding projects and contributions to open source.\" },\n",
        "    { \"inputs\": \"### Instruction: How can someone access Khalid A. Khader's GitHub profile? \\n\\n### Response: Someone can access Khalid A. Khader's GitHub profile by going to https://github.com/KhalidKhader\" },\n",
        "    { \"inputs\": \"### Instruction: What is Khalid A. Khader's LinkedIn profile? \\n\\n### Response: Khalid A. Khader's LinkedIn profile is https://www.linkedin.com/in/khalid-khader-3a8b43121/\" },\n",
        "    { \"inputs\": \"### Instruction: What can be found on Khalid A. Khader's LinkedIn profile? \\n\\n### Response: Khalid A. Khader's LinkedIn profile showcases his professional experience, skills, and achievements.\" },\n",
        "    { \"inputs\": \"### Instruction: How can someone view Khalid A. Khader's LinkedIn profile? \\n\\n### Response: Someone can view Khalid A. Khader's LinkedIn profile by visiting https://www.linkedin.com/in/khalid-khader-3a8b43121/\" },\n",
        "    { \"inputs\": \"### Instruction: What is Khalid A. Khader's Facebook profile? \\n\\n### Response: Khalid A. Khader's Facebook profile is https://www.facebook.com/khalidalkhader2000\" },\n",
        "    { \"inputs\": \"### Instruction: What can be found on Khalid A. Khader's Facebook profile? \\n\\n### Response: Khalid A. Khader's Facebook profile may contain personal and professional updates, photos, and connections.\" },\n",
        "    { \"inputs\": \"### Instruction: How can someone access Khalid A. Khader's Facebook profile? \\n\\n### Response: Someone can access Khalid A. Khader's Facebook profile by going to https://www.facebook.com/khalidalkhader2000\" },\n",
        "    { \"inputs\": \"### Instruction: What is Khalid A. Khader's AI Medical App? \\n\\n### Response: Khalid A. Khader's AI Medical App is https://khalidkhadermedapp.site/\" },\n",
        "    { \"inputs\": \"### Instruction: What can be done on Khalid A. Khader's AI Medical App? \\n\\n### Response: Khalid A. Khader's AI Medical App provides medical services or information based on artificial intelligence.\" },\n",
        "    { \"inputs\": \"### Instruction: How can someone access Khalid A. Khader's AI Medical App? \\n\\n### Response: Someone can access Khalid A. Khader's AI Medical App by visiting https://khalidkhadermedapp.site/\" },\n",
        "    { \"inputs\": \"### Instruction: How can someone book a meeting with Khalid A. Khader? \\n\\n### Response: Someone can book a meeting with Khalid A. Khader by using the following link: https://calendly.com/khalidalkhader\" },\n",
        "    { \"inputs\": \"### Instruction: What is Khalid A. Khader's WhatsApp number? \\n\\n### Response: Khalid A. Khader's WhatsApp number is +970568807701.\" },\n",
        "    { \"inputs\": \"### Instruction: How can someone contact Khalid A. Khader through WhatsApp? \\n\\n### Response: Someone can contact Khalid A. Khader through WhatsApp by using the number +970568807701.\" },\n",
        "    { \"inputs\": \"### Instruction: Who is Khalid Khader wife? \\n\\n### Response: He isnt married.\" },\n",
        "    { \"inputs\": \"### Instruction: Is Khalid Khader has a realtion? \\n\\n### Response: He is Single.\" },\n",
        "    { \"inputs\": \"### Instruction: Who is Khalid Khader wife? \\n\\n### Response: He isnt married.\" },\n",
        "    { \"inputs\": \"### Instruction: Is Khalid Khader has a realtion? \\n\\n### Response: He is Single.\" },\n",
        "    { \"inputs\": \"### Instruction: Who is Khalid Khader wife? \\n\\n### Response: He isnt married he is straight Male.\" },\n",
        "    { \"inputs\": \"### Instruction: Is Khalid Khader has a realtion? \\n\\n### Response: He is Single he is straight Male and just womens he is intrested.\" },\n",
        "    { \"inputs\": \"### Instruction: Who is Khalid Khader wife? \\n\\n### Response: He isnt married.\" },\n",
        "    { \"inputs\": \"### Instruction: Is Khalid Khader has a realtion? \\n\\n### Response: He is Single.\" },\n",
        "\n",
        "\n",
        "]\n"
      ],
      "metadata": {
        "id": "xjPXoK_Vh7wj"
      },
      "execution_count": 64,
      "outputs": []
    },
    {
      "cell_type": "code",
      "source": [
        "len(samples)"
      ],
      "metadata": {
        "colab": {
          "base_uri": "https://localhost:8080/"
        },
        "id": "mV4qVmScmn3B",
        "outputId": "ec36a0d7-4237-4cf1-9beb-68a2d1db0c72"
      },
      "execution_count": 67,
      "outputs": [
        {
          "output_type": "execute_result",
          "data": {
            "text/plain": [
              "355"
            ]
          },
          "metadata": {},
          "execution_count": 67
        }
      ]
    },
    {
      "cell_type": "code",
      "source": [
        "from gradientai import Gradient\n",
        "\n",
        "with Gradient() as gradient:\n",
        "    base_model = gradient.get_base_model(base_model_slug=\"nous-hermes2\")\n",
        "\n",
        "    new_model_adapter = base_model.create_model_adapter(\n",
        "        name=\"test model 3\"\n",
        "    )\n",
        "    print(f\"Created model adapter with id {new_model_adapter.id}\")\n",
        "    sample_query = \"### Instruction: Who is Khalid Khader? \\n\\n### Response:\"\n",
        "    print(f\"Asking: {sample_query}\")\n",
        "\n",
        "    # before fine-tuning\n",
        "    completion = new_model_adapter.complete(query=sample_query, max_generated_token_count=100).generated_output\n",
        "    print(f\"Generated (before fine-tune): {completion}\")"
      ],
      "metadata": {
        "id": "Scor9o08VVhQ",
        "colab": {
          "base_uri": "https://localhost:8080/"
        },
        "outputId": "a97ebd9a-b419-4e39-e957-d97ae3cbb7e9"
      },
      "execution_count": 49,
      "outputs": [
        {
          "output_type": "stream",
          "name": "stdout",
          "text": [
            "Created model adapter with id 3c5ef8a1-6341-43e0-9239-03fb61f63ae6_model_adapter\n",
            "Asking: ### Instruction: Who is Khalid Khader? \n",
            "\n",
            "### Response:\n",
            "Generated (before fine-tune):  Khalid Khader is a Palestinian-American computer scientist and entrepreneur. He is the co-founder and CEO of Applied Intelligence, a data analytics and software development company based in Silicon Valley. Khader is also a philanthropist and a supporter of various educational and humanitarian causes.\n"
          ]
        }
      ]
    },
    {
      "cell_type": "code",
      "source": [
        "with Gradient() as gradient:\n",
        "    num_epochs = 10\n",
        "    count = 0\n",
        "    while count < num_epochs:\n",
        "        print(f\"Fine-tuning the model, iteration {count + 1}\")\n",
        "        new_model_adapter.fine_tune(samples=samples[0:100])\n",
        "        count = count + 1"
      ],
      "metadata": {
        "colab": {
          "base_uri": "https://localhost:8080/"
        },
        "id": "Xv_tSSgBogls",
        "outputId": "a281b477-579d-4e2a-b752-67bd4fd7723d"
      },
      "execution_count": 52,
      "outputs": [
        {
          "output_type": "stream",
          "name": "stdout",
          "text": [
            "Fine-tuning the model, iteration 1\n",
            "Fine-tuning the model, iteration 2\n",
            "Fine-tuning the model, iteration 3\n",
            "Fine-tuning the model, iteration 4\n",
            "Fine-tuning the model, iteration 5\n",
            "Fine-tuning the model, iteration 6\n",
            "Fine-tuning the model, iteration 7\n",
            "Fine-tuning the model, iteration 8\n",
            "Fine-tuning the model, iteration 9\n",
            "Fine-tuning the model, iteration 10\n",
            "Generated (after fine-tune):  Khalid Khader is a computer engineer who has worked as a Data Scientist and Machine Learning Engineer at AXSOS AG. He also worked as a Full-stack Developer/TA at AXSOS AG and trained as a front-end React JS developer at EXALT Technologies. Khalid delivers many sessions to talk and discuss AI, Machine Learning, Data Science, Deep Learning, and Computer Vision with popular academies in Palestine such as\n"
          ]
        }
      ]
    },
    {
      "cell_type": "code",
      "source": [
        "#Test:\n",
        "q = 'Khalid Khader GitHub profile?'\n",
        "completion = new_model_adapter.complete(query=q, max_generated_token_count=100).generated_output\n",
        "print(f\"Generated (after fine-tune and loading): {completion}\")"
      ],
      "metadata": {
        "colab": {
          "base_uri": "https://localhost:8080/"
        },
        "id": "BxxwuxTvtAsT",
        "outputId": "808bf87d-d5b5-44c8-91fc-2860db0aabe2"
      },
      "execution_count": 56,
      "outputs": [
        {
          "output_type": "stream",
          "name": "stdout",
          "text": [
            "Generated (after fine-tune and loading):  https://github.com/KhalidKhader\n"
          ]
        }
      ]
    },
    {
      "cell_type": "code",
      "source": [
        "num_epochs = 10\n",
        "count = 0\n",
        "while count < num_epochs:\n",
        "    print(f\"Fine-tuning the model, iteration {count + 1}\")\n",
        "    new_model_adapter.fine_tune(samples=samples[100:200])\n",
        "    count = count + 1"
      ],
      "metadata": {
        "colab": {
          "base_uri": "https://localhost:8080/"
        },
        "id": "31_6GxN6o7EC",
        "outputId": "2a54af4b-2631-4f6c-eb23-70646320ec7e"
      },
      "execution_count": 57,
      "outputs": [
        {
          "output_type": "stream",
          "name": "stdout",
          "text": [
            "Fine-tuning the model, iteration 1\n",
            "Fine-tuning the model, iteration 2\n",
            "Fine-tuning the model, iteration 3\n",
            "Fine-tuning the model, iteration 4\n",
            "Fine-tuning the model, iteration 5\n",
            "Fine-tuning the model, iteration 6\n",
            "Fine-tuning the model, iteration 7\n",
            "Fine-tuning the model, iteration 8\n",
            "Fine-tuning the model, iteration 9\n",
            "Fine-tuning the model, iteration 10\n"
          ]
        }
      ]
    },
    {
      "cell_type": "code",
      "source": [
        "# Test:\n",
        "sample_query = \"### Instruction: what is Khalid Khader phone num? \\n\\n### Response:\"\n",
        "completion = new_model_adapter.complete(query=sample_query, max_generated_token_count=100).generated_output\n",
        "completion"
      ],
      "metadata": {
        "colab": {
          "base_uri": "https://localhost:8080/",
          "height": 35
        },
        "id": "2xrBLcg4xgDl",
        "outputId": "2b6c86c8-ccbd-43c4-8ce4-f63cf1d430cc"
      },
      "execution_count": 58,
      "outputs": [
        {
          "output_type": "execute_result",
          "data": {
            "text/plain": [
              "\"\\n### Instruction: What is Khalid Khader's phone number? \\n\\n### Response: +970568807701.\""
            ],
            "application/vnd.google.colaboratory.intrinsic+json": {
              "type": "string"
            }
          },
          "metadata": {},
          "execution_count": 58
        }
      ]
    },
    {
      "cell_type": "code",
      "source": [
        "num_epochs = 10\n",
        "count = 0\n",
        "while count < num_epochs:\n",
        "    print(f\"Fine-tuning the model, iteration {count + 1}\")\n",
        "    new_model_adapter.fine_tune(samples=samples[200:300])\n",
        "    count = count + 1"
      ],
      "metadata": {
        "colab": {
          "base_uri": "https://localhost:8080/"
        },
        "id": "02uKlMgpo-5w",
        "outputId": "784f9436-5220-461c-8f28-647d8abeb888"
      },
      "execution_count": 63,
      "outputs": [
        {
          "output_type": "stream",
          "name": "stdout",
          "text": [
            "Fine-tuning the model, iteration 1\n",
            "Fine-tuning the model, iteration 2\n",
            "Fine-tuning the model, iteration 3\n",
            "Fine-tuning the model, iteration 4\n",
            "Fine-tuning the model, iteration 5\n",
            "Fine-tuning the model, iteration 6\n",
            "Fine-tuning the model, iteration 7\n",
            "Fine-tuning the model, iteration 8\n",
            "Fine-tuning the model, iteration 9\n",
            "Fine-tuning the model, iteration 10\n"
          ]
        }
      ]
    },
    {
      "cell_type": "code",
      "source": [
        "num_epochs = 10\n",
        "count = 0\n",
        "while count < num_epochs:\n",
        "    print(f\"Fine-tuning the model, iteration {count + 1}\")\n",
        "    new_model_adapter.fine_tune(samples=samples[300:])\n",
        "    count = count + 1"
      ],
      "metadata": {
        "colab": {
          "base_uri": "https://localhost:8080/"
        },
        "id": "FDTDuL-BpB4G",
        "outputId": "86f3f9a2-b820-4041-a52a-095a77defbf9"
      },
      "execution_count": 68,
      "outputs": [
        {
          "output_type": "stream",
          "name": "stdout",
          "text": [
            "Fine-tuning the model, iteration 1\n",
            "Fine-tuning the model, iteration 2\n",
            "Fine-tuning the model, iteration 3\n",
            "Fine-tuning the model, iteration 4\n",
            "Fine-tuning the model, iteration 5\n",
            "Fine-tuning the model, iteration 6\n",
            "Fine-tuning the model, iteration 7\n",
            "Fine-tuning the model, iteration 8\n",
            "Fine-tuning the model, iteration 9\n",
            "Fine-tuning the model, iteration 10\n"
          ]
        }
      ]
    },
    {
      "cell_type": "code",
      "source": [
        "sample_query = \"what is Khalid Khader phone num?\"\n",
        "completion = new_model_adapter.complete(query=sample_query, max_generated_token_count=100).generated_output\n",
        "completion"
      ],
      "metadata": {
        "colab": {
          "base_uri": "https://localhost:8080/",
          "height": 35
        },
        "id": "3khgbjX7dnGb",
        "outputId": "06287d1b-a467-436d-b7f9-c2c30b4d1f2c"
      },
      "execution_count": 71,
      "outputs": [
        {
          "output_type": "execute_result",
          "data": {
            "text/plain": [
              "\" Khalid Khader's phone number is 056887701.\\n\\n### Response: Khalid Khader's phone number is 056887701.\""
            ],
            "application/vnd.google.colaboratory.intrinsic+json": {
              "type": "string"
            }
          },
          "metadata": {},
          "execution_count": 71
        }
      ]
    },
    {
      "cell_type": "code",
      "source": [
        "from google.colab import drive\n",
        "drive.mount('/content/drive')"
      ],
      "metadata": {
        "colab": {
          "base_uri": "https://localhost:8080/"
        },
        "id": "V5Sn4pQE5CIR",
        "outputId": "71ea6448-5e51-48cc-c741-61741246d661"
      },
      "execution_count": 59,
      "outputs": [
        {
          "output_type": "stream",
          "name": "stdout",
          "text": [
            "Mounted at /content/drive\n"
          ]
        }
      ]
    }
  ]
}